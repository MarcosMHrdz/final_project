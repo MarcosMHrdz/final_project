{
 "cells": [
  {
   "cell_type": "code",
   "execution_count": null,
   "metadata": {},
   "outputs": [],
   "source": [
    "import shapely.geometry as geometry\n",
    "import shapely.ops as ops\n",
    "import pyproj\n",
    "import pandas as pd"
   ]
  },
  {
   "cell_type": "code",
   "execution_count": null,
   "metadata": {},
   "outputs": [],
   "source": [
    "def create_grid(polygon, grid_spacing):\n",
    "    minx, miny, maxx, maxy = polygon.bounds\n",
    "    grid_points = []\n",
    "    x = minx\n",
    "    while x < maxx:\n",
    "        y = miny\n",
    "        while y < maxy:\n",
    "            point = geometry.Point(x, y)\n",
    "            if polygon.contains(point):\n",
    "                grid_points.append((x, y))\n",
    "            y += grid_spacing\n",
    "        x += grid_spacing\n",
    "    return grid_points"
   ]
  },
  {
   "cell_type": "code",
   "execution_count": null,
   "metadata": {},
   "outputs": [],
   "source": [
    "# https://www.keene.edu/campus/maps/tool/\n",
    "coordinates = pd.read_csv('D:/Proyecto ironhack/files/spain_frontiers.csv', decimal=',', sep=';')\n",
    "coordinates = coordinates.values.tolist()\n",
    "\n",
    "# Convert to Shapely Polygon\n",
    "polygon = geometry.Polygon(coordinates)\n",
    "\n",
    "# Convert polygon to Cartesian coordinates (UTM)\n",
    "proj = pyproj.Proj(proj='utm', zone=33, ellps='WGS84')\n",
    "project = lambda x, y: proj(x, y, inverse=False)\n",
    "polygon_utm = ops.transform(project, polygon)\n",
    "\n",
    "polygon = geometry.Polygon(coordinates)\n",
    "\n",
    "grid_spacing = 30 * 1609.34  # 30 miles in meters\n",
    "grid_points_utm = create_grid(polygon_utm, grid_spacing)\n",
    "\n",
    "project_inv = lambda x, y: proj(x, y, inverse=True)\n",
    "grid_points_geo = [project_inv(x, y) for x, y in grid_points_utm]\n",
    "\n",
    "df_country_coordinates = pd.DataFrame(grid_points_geo, columns=['longitude', 'latitude'])\n",
    "\n",
    "df_country_coordinates.to_csv('D:/Proyecto ironhack/files/spain_coordenates_mesh.csv', index=False)"
   ]
  }
 ],
 "metadata": {
  "language_info": {
   "name": "python"
  }
 },
 "nbformat": 4,
 "nbformat_minor": 2
}
