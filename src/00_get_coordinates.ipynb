{
 "cells": [
  {
   "cell_type": "code",
   "execution_count": 1,
   "metadata": {},
   "outputs": [],
   "source": [
    "import shapely.geometry as geometry\n",
    "import shapely.ops as ops\n",
    "import pyproj\n",
    "import pandas as pd"
   ]
  },
  {
   "cell_type": "code",
   "execution_count": 2,
   "metadata": {},
   "outputs": [],
   "source": [
    "def create_grid(polygon, grid_spacing):\n",
    "    minx, miny, maxx, maxy = polygon.bounds\n",
    "    grid_points = []\n",
    "    x = minx\n",
    "    while x < maxx:\n",
    "        y = miny\n",
    "        while y < maxy:\n",
    "            point = geometry.Point(x, y)\n",
    "            if polygon.contains(point):\n",
    "                grid_points.append((x, y))\n",
    "            y += grid_spacing\n",
    "        x += grid_spacing\n",
    "    return grid_points"
   ]
  },
  {
   "cell_type": "code",
   "execution_count": 3,
   "metadata": {},
   "outputs": [],
   "source": [
    "# https://www.keene.edu/campus/maps/tool/\n",
    "coordinates = pd.read_csv('D:/Proyecto ironhack/files/Madrid_frontiers.csv', decimal=',', sep=';')\n",
    "coordinates = coordinates.values.tolist()\n",
    "\n",
    "# Convert to Shapely Polygon\n",
    "polygon = geometry.Polygon(coordinates)\n",
    "\n",
    "# Convert polygon to Cartesian coordinates (UTM)\n",
    "proj = pyproj.Proj(proj='utm', zone=33, ellps='WGS84')\n",
    "project = lambda x, y: proj(x, y, inverse=False)\n",
    "polygon_utm = ops.transform(project, polygon)\n",
    "\n",
    "polygon = geometry.Polygon(coordinates)\n",
    "\n",
    "grid_spacing = 15 * 1609.34  # 30 miles in meters\n",
    "grid_points_utm = create_grid(polygon_utm, grid_spacing)\n",
    "\n",
    "project_inv = lambda x, y: proj(x, y, inverse=True)\n",
    "grid_points_geo = [project_inv(x, y) for x, y in grid_points_utm]\n",
    "\n",
    "df_country_coordinates = pd.DataFrame(grid_points_geo, columns=['longitude', 'latitude'])\n",
    "\n",
    "df_country_coordinates.to_csv('D:/Proyecto ironhack/files/Madrid_coordenates_mesh.csv', index=False)"
   ]
  },
  {
   "cell_type": "code",
   "execution_count": null,
   "metadata": {},
   "outputs": [],
   "source": []
  }
 ],
 "metadata": {
  "kernelspec": {
   "display_name": "Python 3",
   "language": "python",
   "name": "python3"
  },
  "language_info": {
   "codemirror_mode": {
    "name": "ipython",
    "version": 3
   },
   "file_extension": ".py",
   "mimetype": "text/x-python",
   "name": "python",
   "nbconvert_exporter": "python",
   "pygments_lexer": "ipython3",
   "version": "3.12.2"
  }
 },
 "nbformat": 4,
 "nbformat_minor": 2
}
