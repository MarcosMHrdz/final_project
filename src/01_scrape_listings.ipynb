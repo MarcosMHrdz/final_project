{
 "cells": [
  {
   "cell_type": "code",
   "execution_count": null,
   "metadata": {},
   "outputs": [],
   "source": [
    "import requests\n",
    "import pandas as pd\n",
    "from opnieuw import retry\n",
    "from requests.exceptions import HTTPError, ProxyError\n",
    "from tinydb import TinyDB, Query\n",
    "import concurrent.futures"
   ]
  },
  {
   "attachments": {},
   "cell_type": "markdown",
   "metadata": {},
   "source": [
    "### Functions"
   ]
  },
  {
   "cell_type": "code",
   "execution_count": null,
   "metadata": {},
   "outputs": [],
   "source": [
    "# Get Wallapop Used Cars\n",
    "@retry(\n",
    "    retry_on_exceptions=(ConnectionError, HTTPError, ProxyError),\n",
    "    max_calls_total=4,\n",
    "    retry_window_after_first_call_in_seconds=60,\n",
    ")\n",
    "def get_listings(step=0, offset=0, start=0, category_ids=100, latitude='40.428207', longitude='-3.679739', search_id='095355bf-701b-40b6-b37a-1740ef9aca5a'):\n",
    "    url = f\"https://api.wallapop.com/api/v3/cars/search?offset={offset}&experiment=not_logged_experiment&filters_source=default_filters&latitude={latitude}&start={start}&time_filter=lastMonth&order_by=most_relevance&step={step}&category_ids={category_ids}&longitude={longitude}&search_id={search_id}\"\n",
    "    payload = {}\n",
    "    headers = {\n",
    "        'Accept': 'application/json, text/plain, */*',\n",
    "        'Accept-Language': 'es,en-GB;q=0.9,en-US;q=0.8,en;q=0.7',\n",
    "        'Cache-Control': 'no-cache',\n",
    "        'Connection': 'keep-alive',\n",
    "        'DeviceOS': '0',\n",
    "        'MPID': '8966409109343412630',\n",
    "        'Origin': 'https://es.wallapop.com',\n",
    "        'Pragma': 'no-cache',\n",
    "        'Referer': 'https://es.wallapop.com/',\n",
    "        'Sec-Fetch-Dest': 'empty',\n",
    "        'Sec-Fetch-Mode': 'cors',\n",
    "        'Sec-Fetch-Site': 'same-site',\n",
    "        'User-Agent': 'Mozilla/5.0 (Macintosh; Intel Mac OS X 10_15_7) AppleWebKit/537.36 (KHTML, like Gecko) Chrome/126.0.0.0 Safari/537.36',\n",
    "        'X-AppVersion': '82350',\n",
    "        'X-DeviceID': 'fa090a97-4fb2-4423-ae97-bdd5688c75b6',\n",
    "        'X-DeviceOS': '0',\n",
    "        'sec-ch-ua': '\"Not/A)Brand\";v=\"8\", \"Chromium\";v=\"126\", \"Google Chrome\";v=\"126\"',\n",
    "        'sec-ch-ua-mobile': '?0',\n",
    "        'sec-ch-ua-platform': '\"macOS\"'\n",
    "    }\n",
    "    response = requests.request(\"GET\", url, headers=headers, data=payload)\n",
    "    if response.status_code == 200:\n",
    "        return response.json()\n",
    "    else:\n",
    "        print(f'Status Code {response.status_code}')\n"
   ]
  },
  {
   "cell_type": "code",
   "execution_count": null,
   "metadata": {},
   "outputs": [],
   "source": [
    "# Get Wallapop Listing details (HMTL)\n",
    "@retry(\n",
    "    retry_on_exceptions=(ConnectionError, HTTPError, ProxyError),\n",
    "    max_calls_total=4,\n",
    "    retry_window_after_first_call_in_seconds=60,\n",
    ")\n",
    "def get_listing_details(listing_slug):\n",
    "    url = f\"https://es.wallapop.com/item/{listing_slug}\"\n",
    "    payload = {}\n",
    "    headers = {}\n",
    "    response = requests.request(\"GET\", url, headers=headers, data=payload)\n",
    "    if response.status_code == 200:\n",
    "        return response.content"
   ]
  },
  {
   "cell_type": "code",
   "execution_count": null,
   "metadata": {},
   "outputs": [],
   "source": [
    "def iterate_listings(coordinates):\n",
    "    db=TinyDB(f'D:/Proyecto ironhack/files/datos_coordenadas/listings -{coordinates[\"latitude\"]} - {coordinates[\"longitude\"]}.json')\n",
    "    table=db.table(\"listings\")\n",
    "    Serie=Query()\n",
    "    offset = start = 0\n",
    "    i = 0\n",
    "    while True:\n",
    "        i+=1\n",
    "        print(f'Iteracion en pagina {i} - Offset {offset}')\n",
    "        response = get_listings(step=0, offset=offset, start=start, category_ids=100, latitude=coordinates['latitude'], longitude=coordinates['longitude'], search_id='095355bf-701b-40b6-b37a-1740ef9aca5a')\n",
    "        offset += 40\n",
    "        start += 40\n",
    "        if response.get('search_objects', []):\n",
    "            for listing in response['search_objects']:\n",
    "                if listing.get('content', None):\n",
    "                    try:\n",
    "                        car_listing = {\n",
    "                            'id': listing['id'],\n",
    "                            'type': listing['type'],\n",
    "                            'content_id': listing['content']['id'],\n",
    "                            'title': listing['content']['title'],\n",
    "                            'storytelling': listing['content']['storytelling'],\n",
    "                            'distance': listing['content']['distance'],\n",
    "                            'user_id': listing['content']['user']['id'],\n",
    "                            'kind': listing['content']['user']['kind'],\n",
    "                            'flag_pending': listing['content']['flags']['pending'],\n",
    "                            'flag_sold': listing['content']['flags']['sold'],\n",
    "                            'flag_reserved': listing['content']['flags']['reserved'],\n",
    "                            'flag_banned': listing['content']['flags']['banned'],\n",
    "                            'flag_expired': listing['content']['flags']['expired'],\n",
    "                            'flag_onhold': listing['content']['flags']['onhold'],\n",
    "                            'flag_bumped': listing['content']['visibility_flags']['bumped'],\n",
    "                            'flag_highlighted': listing['content']['visibility_flags']['highlighted'],\n",
    "                            'flag_urgent': listing['content']['visibility_flags']['urgent'],\n",
    "                            'flag_country_bumped': listing['content']['visibility_flags']['country_bumped'],\n",
    "                            'flag_boosted': listing['content']['visibility_flags']['boosted'],\n",
    "                            'price': listing['content'].get('price', None),\n",
    "                            'currency': listing['content'].get('currency', None),\n",
    "                            'web_slug': listing['content'].get('web_slug', None),\n",
    "                            'category_id': listing['content'].get('category_id', None),\n",
    "                            'brand': listing['content'].get('brand', None),\n",
    "                            'model': listing['content'].get('model', None),\n",
    "                            'year': listing['content'].get('year', None),\n",
    "                            'version': listing['content'].get('version', None),\n",
    "                            'km': listing['content'].get('km', None),\n",
    "                            'engine': listing['content'].get('engine', None),\n",
    "                            'gearbox': listing['content'].get('gearbox', None),\n",
    "                            'horsepower': listing['content'].get('horsepower', None),\n",
    "                            'favorited': listing['content'].get('favorited', None),\n",
    "                            'creation_date': listing['content'].get('creation_date', None),\n",
    "                            'modification_date': listing['content'].get('modification_date', None),\n",
    "                            'location': listing['content'].get('location', None),\n",
    "                            'supports_shipping': listing['content'].get('supports_shipping', None),\n",
    "                        }\n",
    "                        table.upsert(car_listing, Serie.id==car_listing.get('content_id', 'N/A'))\n",
    "                    except:\n",
    "                        pass\n",
    "        else:\n",
    "            break\n",
    "    return f'Ended loop for lat: {coordinates[\"latitude\"]}, long: {coordinates[\"longitude\"]}'"
   ]
  },
  {
   "attachments": {},
   "cell_type": "markdown",
   "metadata": {},
   "source": [
    "### Main Code"
   ]
  },
  {
   "cell_type": "code",
   "execution_count": null,
   "metadata": {},
   "outputs": [],
   "source": [
    "coordenadas = pd.read_csv('D:/Proyecto ironhack/files/spain_coordenates_mesh.csv')\n",
    "coordinates_list = coordenadas.to_dict('records')"
   ]
  },
  {
   "cell_type": "code",
   "execution_count": null,
   "metadata": {},
   "outputs": [],
   "source": [
    "with concurrent.futures.ThreadPoolExecutor() as executor:\n",
    "    future_to_row = {executor.submit(iterate_listings, coordinates): coordinates for coordinates in coordinates_list}\n",
    "    for future in concurrent.futures.as_completed(future_to_row):\n",
    "        print(future.result())"
   ]
  }
 ],
 "metadata": {
  "kernelspec": {
   "display_name": "venv",
   "language": "python",
   "name": "python3"
  },
  "language_info": {
   "codemirror_mode": {
    "name": "ipython",
    "version": 3
   },
   "file_extension": ".py",
   "mimetype": "text/x-python",
   "name": "python",
   "nbconvert_exporter": "python",
   "pygments_lexer": "ipython3",
   "version": "3.12.2"
  },
  "orig_nbformat": 4
 },
 "nbformat": 4,
 "nbformat_minor": 2
}
