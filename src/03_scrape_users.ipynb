{
 "cells": [
  {
   "cell_type": "code",
   "execution_count": null,
   "metadata": {},
   "outputs": [],
   "source": [
    "import requests\n",
    "import pandas as pd\n",
    "from opnieuw import retry\n",
    "from requests.exceptions import HTTPError, ProxyError\n",
    "from tinydb import TinyDB, Query"
   ]
  },
  {
   "attachments": {},
   "cell_type": "markdown",
   "metadata": {},
   "source": [
    "### Functions"
   ]
  },
  {
   "cell_type": "code",
   "execution_count": null,
   "metadata": {},
   "outputs": [],
   "source": [
    "# Get Wallapop User Details\n",
    "@retry(\n",
    "  retry_on_exceptions=(ConnectionError, HTTPError, ProxyError),\n",
    "  max_calls_total=4,\n",
    "  retry_window_after_first_call_in_seconds=60,\n",
    ")\n",
    "def get_user(user_id):\n",
    "  url = f\"https://api.wallapop.com/api/v3/users/{user_id}\"\n",
    "  payload = {}\n",
    "  headers = {\n",
    "    'Accept': 'application/json, text/plain, */*',\n",
    "    'Cache-Control': 'no-cache',\n",
    "    'Connection': 'keep-alive',\n",
    "    'Origin': 'https://es.wallapop.com',\n",
    "    'Pragma': 'no-cache',\n",
    "    'Referer': 'https://es.wallapop.com/',\n",
    "    'Sec-Fetch-Dest': 'empty',\n",
    "    'Sec-Fetch-Mode': 'cors',\n",
    "    'Sec-Fetch-Site': 'same-site',\n",
    "    'User-Agent': 'Mozilla/5.0 (Macintosh; Intel Mac OS X 10_15_7) AppleWebKit/537.36 (KHTML, like Gecko) Chrome/126.0.0.0 Safari/537.36',\n",
    "    'accept-language': 'es,en-GB;q=0.9,en-US;q=0.8,en;q=0.7',\n",
    "    'deviceos': '0',\n",
    "    'mpid': '8966409109343412630',\n",
    "    'sec-ch-ua': '\"Not/A)Brand\";v=\"8\", \"Chromium\";v=\"126\", \"Google Chrome\";v=\"126\"',\n",
    "    'sec-ch-ua-mobile': '?0',\n",
    "    'sec-ch-ua-platform': '\"macOS\"',\n",
    "    'x-appversion': '82350',\n",
    "    'x-deviceid': 'fa090a97-4fb2-4423-ae97-bdd5688c75b6',\n",
    "    'x-deviceos': '0'\n",
    "  }\n",
    "  response = requests.request(\"GET\", url, headers=headers, data=payload)\n",
    "  if response.status_code == 200:\n",
    "    return response.json()\n",
    "  else:\n",
    "    print(f'Status Code {response.status_code}')\n"
   ]
  },
  {
   "cell_type": "code",
   "execution_count": null,
   "metadata": {},
   "outputs": [],
   "source": [
    "# Iterate the Users list\n",
    "def iterate_users(users):\n",
    "    db=TinyDB(\"D:/Proyecto ironhack/files/users.json\")\n",
    "    table=db.table(\"users\")\n",
    "    Serie=Query()\n",
    "    i=0\n",
    "    for user_id in users:\n",
    "        try:\n",
    "            i+=1\n",
    "            print(f'Obteniendo usuario {i}/{len(users)} - ID: {user_id}')\n",
    "            # time.sleep(random.random()*2)\n",
    "            response_user = get_user(user_id)\n",
    "            table.upsert(response_user, Serie.id==response_user.get('id', 'N/A'))\n",
    "        except:\n",
    "            continue"
   ]
  },
  {
   "attachments": {},
   "cell_type": "markdown",
   "metadata": {},
   "source": [
    "### Main Code"
   ]
  },
  {
   "cell_type": "code",
   "execution_count": null,
   "metadata": {},
   "outputs": [],
   "source": [
    "if __name__ == \"__main__\":\n",
    "    df = pd.read_csv('D:/Proyecto ironhack/files/spain_dataset.csv')\n",
    "    users = list(set(df['user_id'].values))\n",
    "    iterate_users(users)\n",
    "    df = pd.read_json(\"D:/Proyecto ironhack/files/users.json\")\n",
    "    df = pd.json_normalize(df['users'])\n",
    "    df.to_csv(\"D:/Proyecto ironhack/files/users_dataset.csv\", index = False)"
   ]
  }
 ],
 "metadata": {
  "kernelspec": {
   "display_name": "venv",
   "language": "python",
   "name": "python3"
  },
  "language_info": {
   "codemirror_mode": {
    "name": "ipython",
    "version": 3
   },
   "file_extension": ".py",
   "mimetype": "text/x-python",
   "name": "python",
   "nbconvert_exporter": "python",
   "pygments_lexer": "ipython3",
   "version": "3.12.2"
  },
  "orig_nbformat": 4
 },
 "nbformat": 4,
 "nbformat_minor": 2
}
