{
 "cells": [
  {
   "cell_type": "code",
   "execution_count": 2,
   "metadata": {},
   "outputs": [],
   "source": [
    "import pandas as pd\n",
    "import os"
   ]
  },
  {
   "attachments": {},
   "cell_type": "markdown",
   "metadata": {},
   "source": [
    "### Main Code"
   ]
  },
  {
   "cell_type": "code",
   "execution_count": 3,
   "metadata": {},
   "outputs": [],
   "source": [
    "if __name__ == \"__main__\":\n",
    "    directorio = 'D:/Proyecto ironhack/files/datos_coordenadas'\n",
    "    archivos = [os.path.join(directorio, f) for f in os.listdir(directorio) if f.endswith('.json')]\n",
    "\n",
    "    dataframes = []\n",
    "\n",
    "    for archivo in archivos:\n",
    "        try:\n",
    "            df = pd.read_json(archivo)\n",
    "            dataframes.append(df)\n",
    "        except: \n",
    "            pass\n",
    "\n",
    "    # DataFrame No Normalizado\n",
    "    df = pd.concat(dataframes, ignore_index=True).drop_duplicates()\n",
    "    # df.to_csv('D:/Proyecto ironhack/files/spain_dataset_1.csv', index=False)\n",
    "\n",
    "    # DataFrame Normalizado\n",
    "    df = pd.json_normalize(df['listings']).drop_duplicates()\n",
    "    df.to_csv('D:/Proyecto ironhack/files/spain_dataset.csv', index=False)"
   ]
  }
 ],
 "metadata": {
  "kernelspec": {
   "display_name": "venv",
   "language": "python",
   "name": "python3"
  },
  "language_info": {
   "codemirror_mode": {
    "name": "ipython",
    "version": 3
   },
   "file_extension": ".py",
   "mimetype": "text/x-python",
   "name": "python",
   "nbconvert_exporter": "python",
   "pygments_lexer": "ipython3",
   "version": "3.12.2"
  },
  "orig_nbformat": 4
 },
 "nbformat": 4,
 "nbformat_minor": 2
}
